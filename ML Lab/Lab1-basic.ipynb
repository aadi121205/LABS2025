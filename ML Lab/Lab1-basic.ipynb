{
 "cells": [
  {
   "cell_type": "markdown",
   "id": "acce39eb",
   "metadata": {},
   "source": [
    "# Basics"
   ]
  },
  {
   "cell_type": "code",
   "execution_count": 13,
   "id": "63778b40",
   "metadata": {},
   "outputs": [
    {
     "name": "stdout",
     "output_type": "stream",
     "text": [
      "Hello World!\n"
     ]
    }
   ],
   "source": [
    "print(\"Hello World!\")"
   ]
  },
  {
   "cell_type": "code",
   "execution_count": 14,
   "id": "3593a6eb",
   "metadata": {},
   "outputs": [
    {
     "name": "stdout",
     "output_type": "stream",
     "text": [
      "The sum of 5 and 10 is 15.\n",
      "The Type of c is <class 'int'>.\n"
     ]
    }
   ],
   "source": [
    "a = 5\n",
    "b = 10\n",
    "c = a + b\n",
    "print(f\"The sum of {a} and {b} is {c}.\")\n",
    "print(f\"The Type of c is {type(c)}.\")"
   ]
  },
  {
   "cell_type": "code",
   "execution_count": 15,
   "id": "60743982",
   "metadata": {},
   "outputs": [
    {
     "name": "stdout",
     "output_type": "stream",
     "text": [
      "The product of 1.5 and 2.5 is 3.75.\n",
      "The Type of c is <class 'float'>\n"
     ]
    }
   ],
   "source": [
    "a = 1.5\n",
    "b = 2.5\n",
    "c = a * b\n",
    "print(f\"The product of {a} and {b} is {c}.\")\n",
    "print(\"The Type of c is\", type(c))"
   ]
  },
  {
   "cell_type": "code",
   "execution_count": 16,
   "id": "ceaa9167",
   "metadata": {},
   "outputs": [
    {
     "name": "stdout",
     "output_type": "stream",
     "text": [
      "The sum of (7+5j) and (3+2j) is (10+7j).\n",
      "The Type of c is <class 'complex'>\n"
     ]
    }
   ],
   "source": [
    "a = 7 + 5j\n",
    "b = 3 + 2j\n",
    "c = a + b\n",
    "print(f\"The sum of {a} and {b} is {c}.\")\n",
    "print(\"The Type of c is\", type(c))"
   ]
  },
  {
   "cell_type": "code",
   "execution_count": 17,
   "id": "2e1f380b",
   "metadata": {},
   "outputs": [
    {
     "name": "stdout",
     "output_type": "stream",
     "text": [
      "Concatenated string: Ml Lab is a fun course - I am enjoying it\n",
      "The Type of c is <class 'str'>\n"
     ]
    }
   ],
   "source": [
    "a = \"Ml Lab is a fun course\"\n",
    "b = \"I am enjoying it\"\n",
    "c = a + \" - \" + b\n",
    "print(f\"Concatenated string: {c}\")\n",
    "print(\"The Type of c is\", type(c))"
   ]
  },
  {
   "cell_type": "code",
   "execution_count": 18,
   "id": "b1567244",
   "metadata": {},
   "outputs": [
    {
     "name": "stdout",
     "output_type": "stream",
     "text": [
      "Updated value of a: 15\n",
      "Value of a after multiplication: 30\n",
      "Value of a after squaring: 900\n",
      "The Type of a is <class 'int'>\n"
     ]
    }
   ],
   "source": [
    "a = 5\n",
    "a = a + 10\n",
    "print(f\"Updated value of a: {a}\")\n",
    "a = a*2\n",
    "print(f\"Value of a after multiplication: {a}\")\n",
    "a = a**2\n",
    "print(f\"Value of a after squaring: {a}\")\n",
    "print(\"The Type of a is\", type(a))"
   ]
  },
  {
   "cell_type": "code",
   "execution_count": 19,
   "id": "7476bfc8",
   "metadata": {},
   "outputs": [
    {
     "name": "stdout",
     "output_type": "stream",
     "text": [
      "This is a multiline string.\n",
      "It can span multiple lines.\n",
      "This is useful for long text.\n",
      "The Type of a is <class 'str'>\n"
     ]
    }
   ],
   "source": [
    "a = \"\"\"This is a multiline string.\n",
    "It can span multiple lines.\n",
    "This is useful for long text.\"\"\"\n",
    "print(a)\n",
    "print(\"The Type of a is\", type(a))"
   ]
  }
 ],
 "metadata": {
  "kernelspec": {
   "display_name": "ai_env",
   "language": "python",
   "name": "python3"
  },
  "language_info": {
   "codemirror_mode": {
    "name": "ipython",
    "version": 3
   },
   "file_extension": ".py",
   "mimetype": "text/x-python",
   "name": "python",
   "nbconvert_exporter": "python",
   "pygments_lexer": "ipython3",
   "version": "3.13.5"
  }
 },
 "nbformat": 4,
 "nbformat_minor": 5
}
